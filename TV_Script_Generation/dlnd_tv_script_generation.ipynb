{
 "cells": [
  {
   "cell_type": "markdown",
   "metadata": {},
   "source": [
    "# TV Script Generation\n",
    "In this project, I am generating [Simpsons](https://en.wikipedia.org/wiki/The_Simpsons) TV scripts using RNNs.  I have used the [Simpsons dataset](https://www.kaggle.com/wcukierski/the-simpsons-by-the-data) of scripts from 27 seasons of the hit TV Series.  The Neural Network will generate a new TV script which is as long as a typical Simpsons scene.\n",
    "## Getting the Data\n",
    "I have used the entire original dataset.  It consists scenes of a variety of scenes from Simpsons' episodes (about 180K lines of text in total)"
   ]
  },
  {
   "cell_type": "code",
   "execution_count": 1,
   "metadata": {},
   "outputs": [],
   "source": [
    "import helper\n",
    "\n",
    "data_dir = 'data/simpsons-lines.txt'\n",
    "text = helper.load_data(data_dir)"
   ]
  },
  {
   "cell_type": "code",
   "execution_count": 2,
   "metadata": {},
   "outputs": [
    {
     "data": {
      "text/plain": [
       "\". Sometimes when a disease is in all the magazines and all the news shows, it's only natural that you think you have it.\\n\\nLisa_Simpson: (NEAR TEARS) W\""
      ]
     },
     "execution_count": 2,
     "metadata": {},
     "output_type": "execute_result"
    }
   ],
   "source": [
    "# Display some random text for sanity check\n",
    "text[50:200]"
   ]
  },
  {
   "cell_type": "markdown",
   "metadata": {},
   "source": [
    "## Exploring the Data\n",
    "Play around with `view_sentence_range` to view different parts of the data."
   ]
  },
  {
   "cell_type": "code",
   "execution_count": 3,
   "metadata": {},
   "outputs": [
    {
     "name": "stdout",
     "output_type": "stream",
     "text": [
      "Dataset Stats\n",
      "Roughly the number of unique words: 139663\n",
      "Number of scenes: 21592\n",
      "Average number of sentences in each scene: 6.330122267506484\n",
      "Number of lines: 158272\n",
      "Average number of words in each line: 10.767703699959563\n",
      "\n",
      "The sentences 0 to 10:\n",
      "Miss_Hoover: No, actually, it was a little of both. Sometimes when a disease is in all the magazines and all the news shows, it's only natural that you think you have it.\n",
      "\n",
      "Lisa_Simpson: (NEAR TEARS) Where's Mr. Bergstrom?\n",
      "Miss_Hoover: I don't know. Although I'd sure like to talk to him. He didn't touch my lesson plan. What did he teach you?\n",
      "Lisa_Simpson: That life is worth living.\n",
      "Edna Krabappel-Flanders: The polls will be open from now until the end of recess. Now, (SOUR) just in case any of you have decided to put any thought into this, we'll have our final statements. Martin?\n",
      "Martin_Prince: (HOARSE WHISPER) I don't think there's anything left to say.\n",
      "Edna Krabappel-Flanders: Bart?\n",
      "Bart_Simpson: Victory party under the slide!\n",
      "(Apartment_Building: Ext. apartment building - day)\n"
     ]
    }
   ],
   "source": [
    "view_sentence_range = (0, 10)\n",
    "\n",
    "import numpy as np\n",
    "\n",
    "print('Dataset Stats')\n",
    "print('Roughly the number of unique words: {}'.format(len({word: None for word in text.split()})))\n",
    "scenes = text.split('\\n\\n')\n",
    "print('Number of scenes: {}'.format(len(scenes)))\n",
    "sentence_count_scene = [scene.count('\\n') for scene in scenes]\n",
    "print('Average number of sentences in each scene: {}'.format(np.average(sentence_count_scene)))\n",
    "\n",
    "sentences = [sentence for scene in scenes for sentence in scene.split('\\n')]\n",
    "print('Number of lines: {}'.format(len(sentences)))\n",
    "word_count_sentence = [len(sentence.split()) for sentence in sentences]\n",
    "print('Average number of words in each line: {}'.format(np.average(word_count_sentence)))\n",
    "\n",
    "print()\n",
    "print('The sentences {} to {}:'.format(*view_sentence_range))\n",
    "print('\\n'.join(text.split('\\n')[view_sentence_range[0]:view_sentence_range[1]]))"
   ]
  },
  {
   "cell_type": "markdown",
   "metadata": {},
   "source": [
    "## Implement Preprocessing Functions\n",
    "Now we'll implement the following preprocessing functions:\n",
    "- Lookup Table\n",
    "- Tokenize Punctuation\n",
    "\n",
    "### Lookup Table\n",
    "To create a word embedding, you first need to transform the words to ids.  In this function, I create two dictionaries:\n",
    "- Dictionary to go from the words to an id, we'll call `vocab_to_int`\n",
    "- Dictionary to go from the id to word, we'll call `int_to_vocab`\n",
    "\n",
    "These dictionaries are returned in the following tuple `(vocab_to_int, int_to_vocab)`"
   ]
  },
  {
   "cell_type": "code",
   "execution_count": 4,
   "metadata": {},
   "outputs": [
    {
     "name": "stdout",
     "output_type": "stream",
     "text": [
      "Tests Passed\n"
     ]
    }
   ],
   "source": [
    "import problem_unittests as tests\n",
    "from collections import Counter\n",
    "\n",
    "def create_lookup_tables(text):\n",
    "    \"\"\"\n",
    "    Create lookup tables for vocabulary\n",
    "    :param text: The text of tv scripts split into words\n",
    "    :return: A tuple of dicts (vocab_to_int, int_to_vocab)\n",
    "    \"\"\"\n",
    "    word_counts = Counter(text)\n",
    "    sorted_vocab = sorted(word_counts, key=word_counts.get, reverse=True)\n",
    "    int_to_vocab = {ii: word for ii, word in enumerate(sorted_vocab)}\n",
    "    vocab_to_int = {word:ii for ii, word in int_to_vocab.items()}\n",
    "    return vocab_to_int, int_to_vocab\n",
    "\n",
    "\n",
    "tests.test_create_lookup_tables(create_lookup_tables)"
   ]
  },
  {
   "cell_type": "markdown",
   "metadata": {},
   "source": [
    "### Tokenize Punctuation\n",
    "We'll be splitting the script into a word array using spaces as delimiters.  However, punctuations like periods and exclamation marks make it hard for the neural network to distinguish between the word \"bye\" and \"bye!\".\n",
    "\n",
    "The function `token_lookup` returns a dict that will be used to tokenize symbols like \"!\" into \"||Exclamation_Mark||\".  We now create a dictionary for the following symbols where the symbol is the key and value is the token:\n",
    "- Period ( . )\n",
    "- Comma ( , )\n",
    "- Quotation Mark ( \" )\n",
    "- Semicolon ( ; )\n",
    "- Exclamation mark ( ! )\n",
    "- Question mark ( ? )\n",
    "- Left Parentheses ( ( )\n",
    "- Right Parentheses ( ) )\n",
    "- Dash ( -- )\n",
    "- Return ( \\n )\n",
    "\n",
    "This dictionary will be used to token the symbols and add the delimiter (space) around it.  This separates the symbols as it's own word, making it easier for the neural network to predict on the next word. We need to make sure we don't use a token that could be confused as a word. Instead of using the token \"dash\", we'll use something like \"||dash||\"."
   ]
  },
  {
   "cell_type": "code",
   "execution_count": 5,
   "metadata": {},
   "outputs": [
    {
     "name": "stdout",
     "output_type": "stream",
     "text": [
      "Tests Passed\n"
     ]
    }
   ],
   "source": [
    "def token_lookup():\n",
    "    \"\"\"\n",
    "    Generate a dict to turn punctuation into a token.\n",
    "    :return: Tokenize dictionary where the key is the punctuation and the value is the token\n",
    "    \"\"\"\n",
    "    lookup_dict = {}\n",
    "    lookup_dict.update({'.' : '<PERIOD>'})\n",
    "    lookup_dict.update({',' : '<COMMA>'})\n",
    "    lookup_dict.update({'\"' : '<QUOTATION_MARK>'})\n",
    "    lookup_dict.update({';' : '<SEMICOLON>'})\n",
    "    lookup_dict.update({'!' : '<EXCLAMATION_MARK>'})\n",
    "    lookup_dict.update({'?' : '<QUESTION_MARK>'})\n",
    "    lookup_dict.update({'(' : '<LEFT_PAREN>'})\n",
    "    lookup_dict.update({')' : '<RIGHT_PAREN>'})\n",
    "    lookup_dict.update({'--' : '<HYPHENS>'})\n",
    "    lookup_dict.update({'\\n' : '<NEW_LINE>'})\n",
    "    return lookup_dict\n",
    "\n",
    "\n",
    "tests.test_tokenize(token_lookup)"
   ]
  },
  {
   "cell_type": "markdown",
   "metadata": {},
   "source": [
    "## Preprocess all the data and save it\n",
    "Running the code cell below will preprocess all the data and save it to file."
   ]
  },
  {
   "cell_type": "code",
   "execution_count": 6,
   "metadata": {},
   "outputs": [],
   "source": [
    "# Preprocess Training, Validation, and Testing Data\n",
    "helper.preprocess_and_save_data(data_dir, token_lookup, create_lookup_tables)"
   ]
  },
  {
   "cell_type": "markdown",
   "metadata": {},
   "source": [
    "# Check Point\n",
    "We'll save this checkpoint so that we can start from here after a restart. The preprocessed data has been saved to disk."
   ]
  },
  {
   "cell_type": "code",
   "execution_count": 7,
   "metadata": {},
   "outputs": [],
   "source": [
    "import helper\n",
    "import numpy as np\n",
    "import problem_unittests as tests\n",
    "\n",
    "int_text, vocab_to_int, int_to_vocab, token_dict = helper.load_preprocess()"
   ]
  },
  {
   "cell_type": "code",
   "execution_count": 8,
   "metadata": {},
   "outputs": [
    {
     "data": {
      "text/plain": [
       "12"
      ]
     },
     "execution_count": 8,
     "metadata": {},
     "output_type": "execute_result"
    }
   ],
   "source": [
    "vocab_to_int['homer_simpson:']"
   ]
  },
  {
   "cell_type": "markdown",
   "metadata": {},
   "source": [
    "## Building the Neural Network\n",
    "Now we will build the components necessary to build a RNN by implementing the following functions below:\n",
    "- get_inputs\n",
    "- get_init_cell\n",
    "- get_embed\n",
    "- build_rnn\n",
    "- build_nn\n",
    "- get_batches\n",
    "\n",
    "### Check the Version of TensorFlow and Access to GPU"
   ]
  },
  {
   "cell_type": "code",
   "execution_count": null,
   "metadata": {},
   "outputs": [],
   "source": [
    "from distutils.version import LooseVersion\n",
    "import warnings\n",
    "import tensorflow as tf\n",
    "\n",
    "# Check TensorFlow Version\n",
    "assert LooseVersion(tf.__version__) >= LooseVersion('1.3'), 'Please use TensorFlow version 1.3 or newer'\n",
    "print('TensorFlow Version: {}'.format(tf.__version__))\n",
    "\n",
    "# Check for a GPU\n",
    "if not tf.test.gpu_device_name():\n",
    "    warnings.warn('No GPU found. Please use a GPU to train your neural network.')\n",
    "else:\n",
    "    print('Default GPU Device: {}'.format(tf.test.gpu_device_name()))"
   ]
  },
  {
   "cell_type": "markdown",
   "metadata": {},
   "source": [
    "### Input\n",
    "The `get_inputs()` creates TF Placeholders for the Neural Network.  It will create the following placeholders:\n",
    "- Input text placeholder named \"input\" using the [TF Placeholder](https://www.tensorflow.org/api_docs/python/tf/placeholder) `name` parameter.\n",
    "- Targets placeholder\n",
    "- Learning Rate placeholder\n",
    "\n",
    "The placeholders are returned in the following tuple `(Input, Targets, LearningRate)`"
   ]
  },
  {
   "cell_type": "code",
   "execution_count": 10,
   "metadata": {},
   "outputs": [
    {
     "name": "stdout",
     "output_type": "stream",
     "text": [
      "Tests Passed\n"
     ]
    }
   ],
   "source": [
    "def get_inputs():\n",
    "    \"\"\"\n",
    "    Create TF Placeholders for input, targets, and learning rate.\n",
    "    :return: Tuple (input, targets, learning rate)\n",
    "    \"\"\"\n",
    "    inputs = tf.placeholder(tf.int32, [None, None], name = 'input')\n",
    "    targets = tf.placeholder(tf.int32, [None, None], name = 'targets')\n",
    "    learning_rate = tf.placeholder(tf.float32, name='learning_rate')\n",
    "    return inputs, targets, learning_rate\n",
    "\n",
    "\n",
    "tests.test_get_inputs(get_inputs)"
   ]
  },
  {
   "cell_type": "markdown",
   "metadata": {},
   "source": [
    "### Build RNN Cell and Initialize\n",
    "We'll stack [`BasicLSTMCells`](https://www.tensorflow.org/api_docs/python/tf/contrib/rnn/BasicLSTMCell) in a [`MultiRNNCell`](https://www.tensorflow.org/api_docs/python/tf/contrib/rnn/MultiRNNCell).\n",
    "- The Rnn size will be set using `rnn_size`\n",
    "- Cell State will be initialized using the MultiRNNCell's [`zero_state()`](https://www.tensorflow.org/api_docs/python/tf/contrib/rnn/MultiRNNCell#zero_state) function\n",
    "    - We will apply the name \"initial_state\" to the initial state using [`tf.identity()`](https://www.tensorflow.org/api_docs/python/tf/identity)\n",
    "\n",
    "The cell and initial state will be returned in the following tuple `(Cell, InitialState)`"
   ]
  },
  {
   "cell_type": "code",
   "execution_count": 12,
   "metadata": {},
   "outputs": [
    {
     "name": "stdout",
     "output_type": "stream",
     "text": [
      "Tests Passed\n"
     ]
    }
   ],
   "source": [
    "def get_init_cell(batch_size, rnn_size, keep_prob=0.8, layers=3):\n",
    "    \"\"\"\n",
    "    Create an RNN Cell and initialize it.\n",
    "    :param batch_size: Size of batches\n",
    "    :param rnn_size: Size of RNNs\n",
    "    :return: Tuple (cell, initialize state)\n",
    "    \"\"\"\n",
    "    def build_cell(rnn_size):\n",
    "        lstm = tf.contrib.rnn.BasicLSTMCell(rnn_size)\n",
    "        return lstm\n",
    "    \n",
    "    # Stack up multiple LSTM layers, for deep learning\n",
    "    cell = tf.contrib.rnn.BasicLSTMCell(rnn_size)\n",
    "    cell = tf.contrib.rnn.DropoutWrapper(cell, output_keep_prob=keep_prob)\n",
    "    cell = tf.contrib.rnn.MultiRNNCell([cell] * layers)\n",
    "    initial_state = cell.zero_state(batch_size, tf.float32)\n",
    "    initial_state = tf.identity(initial_state, name=\"initial_state\")\n",
    "    return cell, initial_state\n",
    "\n",
    "tests.test_get_init_cell(get_init_cell)"
   ]
  },
  {
   "cell_type": "markdown",
   "metadata": {},
   "source": [
    "### Word Embedding\n",
    "Apply embedding to `input_data` using TensorFlow.  Return the embedded sequence."
   ]
  },
  {
   "cell_type": "code",
   "execution_count": 14,
   "metadata": {},
   "outputs": [
    {
     "name": "stdout",
     "output_type": "stream",
     "text": [
      "Tests Passed\n"
     ]
    }
   ],
   "source": [
    "def get_embed(input_data, vocab_size, embed_dim):\n",
    "    \"\"\"\n",
    "    Create embedding for <input_data>.\n",
    "    :param input_data: TF placeholder for text input.\n",
    "    :param vocab_size: Number of words in vocabulary.\n",
    "    :param embed_dim: Number of embedding dimensions\n",
    "    :return: Embedded input.\n",
    "    \"\"\"\n",
    "    embedding = tf.Variable(tf.truncated_normal([vocab_size, embed_dim], stddev=0.05))\n",
    "    embed = tf.nn.embedding_lookup(embedding, input_data)\n",
    "    return embed\n",
    "\n",
    "tests.test_get_embed(get_embed)"
   ]
  },
  {
   "cell_type": "markdown",
   "metadata": {},
   "source": [
    "### Build RNN\n",
    "We have created a RNN Cell in the `get_init_cell()` function.  Now it's time to use the cell to create a RNN.\n",
    "- We'll build the RNN using the [`tf.nn.dynamic_rnn()`](https://www.tensorflow.org/api_docs/python/tf/nn/dynamic_rnn)\n",
    " - We will apply the name \"final_state\" to the final state using [`tf.identity()`](https://www.tensorflow.org/api_docs/python/tf/identity)\n",
    "\n",
    "The outputs and final_state state will be returned in the following tuple `(Outputs, FinalState)` "
   ]
  },
  {
   "cell_type": "code",
   "execution_count": 16,
   "metadata": {},
   "outputs": [
    {
     "name": "stdout",
     "output_type": "stream",
     "text": [
      "Tests Passed\n"
     ]
    }
   ],
   "source": [
    "def build_rnn(cell, inputs):\n",
    "    \"\"\"\n",
    "    Create a RNN using a RNN Cell\n",
    "    :param cell: RNN Cell\n",
    "    :param inputs: Input text data\n",
    "    :return: Tuple (Outputs, Final State)\n",
    "    \"\"\"\n",
    "    outputs, final_state = tf.nn.dynamic_rnn(cell=cell,\n",
    "                                   inputs=inputs,\n",
    "                                   dtype=tf.float32)\n",
    "    final_state = tf.identity(final_state, name=\"final_state\")\n",
    "    return outputs, final_state\n",
    "\n",
    "tests.test_build_rnn(build_rnn)"
   ]
  },
  {
   "cell_type": "markdown",
   "metadata": {},
   "source": [
    "### Build the Neural Network\n",
    "Now we will\n",
    "- Apply embedding to `input_data` using your `get_embed(input_data, vocab_size, embed_dim)` function.\n",
    "- Build RNN using `cell` and your `build_rnn(cell, inputs)` function.\n",
    "- Apply a fully connected layer with a linear activation and `vocab_size` as the number of outputs.\n",
    "\n",
    "The logits and final state will be returned in the following tuple (Logits, FinalState) "
   ]
  },
  {
   "cell_type": "code",
   "execution_count": 17,
   "metadata": {},
   "outputs": [
    {
     "name": "stdout",
     "output_type": "stream",
     "text": [
      "Tests Passed\n"
     ]
    }
   ],
   "source": [
    "def build_nn(cell, rnn_size, input_data, vocab_size, embed_dim):\n",
    "    \"\"\"\n",
    "    Build part of the neural network\n",
    "    :param cell: RNN cell\n",
    "    :param rnn_size: Size of rnns\n",
    "    :param input_data: Input data\n",
    "    :param vocab_size: Vocabulary size\n",
    "    :param embed_dim: Number of embedding dimensions\n",
    "    :return: Tuple (Logits, FinalState)\n",
    "    \"\"\"\n",
    "    embed = get_embed(input_data, vocab_size, rnn_size)\n",
    "    outputs, final_state = build_rnn(cell, embed)\n",
    "    logits = tf.contrib.layers.fully_connected(outputs, vocab_size, activation_fn=None, weights_initializer=tf.random_normal_initializer(mean=0.0, stddev=0.05,seed=None))\n",
    "    return logits, final_state\n",
    "\n",
    "tests.test_build_nn(build_nn)"
   ]
  },
  {
   "cell_type": "markdown",
   "metadata": {},
   "source": [
    "### Batches\n",
    "The function `get_batches` implements functionality to create batches of input and targets using `int_text`.  The batches are a Numpy array with the shape `(number of batches, 2, batch size, sequence length)`. Each batch contains two elements:\n",
    "- The first element is a single batch of **input** with the shape `[batch size, sequence length]`\n",
    "- The second element is a single batch of **targets** with the shape `[batch size, sequence length]`\n",
    "\n",
    "If we can't fill the last batch with enough data, we'll drop the last batch.\n",
    "\n",
    "For example, `get_batches([1, 2, 3, 4, 5, 6, 7, 8, 9, 10, 11, 12, 13, 14, 15, 16, 17, 18, 19, 20], 3, 2)` would return a Numpy array of the following:\n",
    "```\n",
    "[\n",
    "  # First Batch\n",
    "  [\n",
    "    # Batch of Input\n",
    "    [[ 1  2], [ 7  8], [13 14]]\n",
    "    # Batch of targets\n",
    "    [[ 2  3], [ 8  9], [14 15]]\n",
    "  ]\n",
    "\n",
    "  # Second Batch\n",
    "  [\n",
    "    # Batch of Input\n",
    "    [[ 3  4], [ 9 10], [15 16]]\n",
    "    # Batch of targets\n",
    "    [[ 4  5], [10 11], [16 17]]\n",
    "  ]\n",
    "\n",
    "  # Third Batch\n",
    "  [\n",
    "    # Batch of Input\n",
    "    [[ 5  6], [11 12], [17 18]]\n",
    "    # Batch of targets\n",
    "    [[ 6  7], [12 13], [18  1]]\n",
    "  ]\n",
    "]\n",
    "```\n",
    "\n",
    "Notice that the last target value in the last batch is the first input value of the first batch. In this case, `1`. This is a common technique used when creating sequence batches, although it is rather unintuitive."
   ]
  },
  {
   "cell_type": "code",
   "execution_count": 16,
   "metadata": {},
   "outputs": [
    {
     "name": "stdout",
     "output_type": "stream",
     "text": [
      "Tests Passed\n"
     ]
    }
   ],
   "source": [
    "def get_batches(int_text, batch_size, seq_length):\n",
    "    \"\"\"\n",
    "    Return batches of input and target\n",
    "    :param int_text: Text with the words replaced by their ids\n",
    "    :param batch_size: The size of batch\n",
    "    :param seq_length: The length of sequence\n",
    "    :return: Batches as a Numpy array\n",
    "    \"\"\"\n",
    "    num_batches = len(int_text) // (batch_size  * seq_length)\n",
    "    np_text = np.array(int_text[:num_batches * (batch_size  * seq_length)])\n",
    "    in_text = np_text.reshape(-1, seq_length)\n",
    "    tar_text = np.roll(np_text, -1).reshape(-1, seq_length)\n",
    "    output = np.zeros(shape=(num_batches, 2, batch_size, seq_length), dtype=np.int)\n",
    "    for idx in range(0, in_text.shape[0]):\n",
    "        jj = idx % num_batches\n",
    "        ii = idx // num_batches\n",
    "        output[jj,0,ii,:] = in_text[idx,:]\n",
    "        output[jj,1,ii,:] = tar_text[idx,:]\n",
    "    return output\n",
    "\n",
    "\n",
    "tests.test_get_batches(get_batches)"
   ]
  },
  {
   "cell_type": "markdown",
   "metadata": {},
   "source": [
    "## Neural Network Training\n",
    "### Hyperparameters\n",
    "Now we will be tuning the following parameters:\n",
    "\n",
    "- Set `num_epochs` to the number of epochs.\n",
    "- Set `batch_size` to the batch size.\n",
    "- Set `rnn_size` to the size of the RNNs.\n",
    "- Set `embed_dim` to the size of the embedding.\n",
    "- Set `seq_length` to the length of sequence.\n",
    "- Set `learning_rate` to the learning rate.\n",
    "- Set `show_every_n_batches` to the number of batches the neural network should print progress."
   ]
  },
  {
   "cell_type": "code",
   "execution_count": 14,
   "metadata": {},
   "outputs": [],
   "source": [
    "# Number of Epochs\n",
    "num_epochs = 100\n",
    "# Batch Size\n",
    "batch_size = 512\n",
    "# RNN Size\n",
    "rnn_size = 1024\n",
    "# Embedding Dimension Size\n",
    "embed_dim = 256\n",
    "# Sequence Length\n",
    "seq_length = 32\n",
    "# Learning Rate\n",
    "learning_rate = 0.01\n",
    "# Show stats for every n number of batches\n",
    "show_every_n_batches = 50\n",
    "\n",
    "save_dir = './save'"
   ]
  },
  {
   "cell_type": "markdown",
   "metadata": {},
   "source": [
    "### Build the Graph\n",
    "Let's build the graph using the neural network we just implemented."
   ]
  },
  {
   "cell_type": "code",
   "execution_count": 75,
   "metadata": {},
   "outputs": [],
   "source": [
    "from tensorflow.contrib import seq2seq\n",
    "\n",
    "train_graph = tf.Graph()\n",
    "with train_graph.as_default():\n",
    "    vocab_size = len(int_to_vocab)\n",
    "    input_text, targets, lr = get_inputs()\n",
    "    input_data_shape = tf.shape(input_text)\n",
    "    cell, initial_state = get_init_cell(input_data_shape[0], rnn_size)\n",
    "    logits, final_state = build_nn(cell, rnn_size, input_text, vocab_size, embed_dim)\n",
    "\n",
    "    # Probabilities for generating words\n",
    "    probs = tf.nn.softmax(logits, name='probs')\n",
    "\n",
    "    # Loss function\n",
    "    cost = seq2seq.sequence_loss(\n",
    "        logits,\n",
    "        targets,\n",
    "        tf.ones([input_data_shape[0], input_data_shape[1]]))\n",
    "\n",
    "    # Optimizer\n",
    "    optimizer = tf.train.AdamOptimizer(lr)\n",
    "\n",
    "    # Gradient Clipping\n",
    "    gradients = optimizer.compute_gradients(cost)\n",
    "    capped_gradients = [(tf.clip_by_value(grad, -1., 1.), var) for grad, var in gradients if grad is not None]\n",
    "    train_op = optimizer.apply_gradients(capped_gradients)"
   ]
  },
  {
   "cell_type": "markdown",
   "metadata": {},
   "source": [
    "## Train\n",
    "Now we'll train the neural network on the preprocessed data."
   ]
  },
  {
   "cell_type": "code",
   "execution_count": 76,
   "metadata": {},
   "outputs": [
    {
     "name": "stdout",
     "output_type": "stream",
     "text": [
      "Epoch   0 Batch    0/149   train_loss = 11.010\n",
      "Epoch   0 Batch   50/149   train_loss = 6.676\n",
      "Epoch   0 Batch  100/149   train_loss = 6.494\n",
      "Epoch   1 Batch    1/149   train_loss = 6.451\n",
      "Epoch   1 Batch   51/149   train_loss = 5.949\n",
      "Epoch   1 Batch  101/149   train_loss = 5.491\n",
      "Epoch   2 Batch    2/149   train_loss = 5.073\n",
      "Epoch   2 Batch   52/149   train_loss = 4.916\n",
      "Epoch   2 Batch  102/149   train_loss = 4.775\n",
      "Epoch   3 Batch    3/149   train_loss = 4.640\n",
      "Epoch   3 Batch   53/149   train_loss = 4.632\n",
      "Epoch   3 Batch  103/149   train_loss = 4.539\n",
      "Epoch   4 Batch    4/149   train_loss = 4.490\n",
      "Epoch   4 Batch   54/149   train_loss = 4.423\n",
      "Epoch   4 Batch  104/149   train_loss = 4.393\n",
      "Epoch   5 Batch    5/149   train_loss = 4.327\n",
      "Epoch   5 Batch   55/149   train_loss = 4.283\n",
      "Epoch   5 Batch  105/149   train_loss = 4.199\n",
      "Epoch   6 Batch    6/149   train_loss = 4.168\n",
      "Epoch   6 Batch   56/149   train_loss = 4.136\n",
      "Epoch   6 Batch  106/149   train_loss = 4.100\n",
      "Epoch   7 Batch    7/149   train_loss = 4.054\n",
      "Epoch   7 Batch   57/149   train_loss = 4.016\n",
      "Epoch   7 Batch  107/149   train_loss = 3.938\n",
      "Epoch   8 Batch    8/149   train_loss = 3.949\n",
      "Epoch   8 Batch   58/149   train_loss = 3.890\n",
      "Epoch   8 Batch  108/149   train_loss = 3.846\n",
      "Epoch   9 Batch    9/149   train_loss = 3.888\n",
      "Epoch   9 Batch   59/149   train_loss = 3.777\n",
      "Epoch   9 Batch  109/149   train_loss = 3.798\n",
      "Epoch  10 Batch   10/149   train_loss = 3.759\n",
      "Epoch  10 Batch   60/149   train_loss = 3.800\n",
      "Epoch  10 Batch  110/149   train_loss = 3.727\n",
      "Epoch  11 Batch   11/149   train_loss = 3.744\n",
      "Epoch  11 Batch   61/149   train_loss = 3.735\n",
      "Epoch  11 Batch  111/149   train_loss = 3.726\n",
      "Epoch  12 Batch   12/149   train_loss = 3.715\n",
      "Epoch  12 Batch   62/149   train_loss = 3.629\n",
      "Epoch  12 Batch  112/149   train_loss = 3.616\n",
      "Epoch  13 Batch   13/149   train_loss = 3.614\n",
      "Epoch  13 Batch   63/149   train_loss = 3.595\n",
      "Epoch  13 Batch  113/149   train_loss = 3.515\n",
      "Epoch  14 Batch   14/149   train_loss = 3.542\n",
      "Epoch  14 Batch   64/149   train_loss = 3.541\n",
      "Epoch  14 Batch  114/149   train_loss = 3.493\n",
      "Epoch  15 Batch   15/149   train_loss = 3.563\n",
      "Epoch  15 Batch   65/149   train_loss = 3.535\n",
      "Epoch  15 Batch  115/149   train_loss = 3.424\n",
      "Epoch  16 Batch   16/149   train_loss = 3.468\n",
      "Epoch  16 Batch   66/149   train_loss = 3.456\n",
      "Epoch  16 Batch  116/149   train_loss = 3.436\n",
      "Epoch  17 Batch   17/149   train_loss = 3.409\n",
      "Epoch  17 Batch   67/149   train_loss = 3.450\n",
      "Epoch  17 Batch  117/149   train_loss = 3.340\n",
      "Epoch  18 Batch   18/149   train_loss = 3.369\n",
      "Epoch  18 Batch   68/149   train_loss = 3.362\n",
      "Epoch  18 Batch  118/149   train_loss = 3.290\n",
      "Epoch  19 Batch   19/149   train_loss = 3.360\n",
      "Epoch  19 Batch   69/149   train_loss = 3.338\n",
      "Epoch  19 Batch  119/149   train_loss = 3.282\n",
      "Epoch  20 Batch   20/149   train_loss = 3.318\n",
      "Epoch  20 Batch   70/149   train_loss = 3.269\n",
      "Epoch  20 Batch  120/149   train_loss = 3.247\n",
      "Epoch  21 Batch   21/149   train_loss = 3.234\n",
      "Epoch  21 Batch   71/149   train_loss = 3.264\n",
      "Epoch  21 Batch  121/149   train_loss = 3.236\n",
      "Epoch  22 Batch   22/149   train_loss = 3.226\n",
      "Epoch  22 Batch   72/149   train_loss = 3.215\n",
      "Epoch  22 Batch  122/149   train_loss = 3.113\n",
      "Epoch  23 Batch   23/149   train_loss = 3.215\n",
      "Epoch  23 Batch   73/149   train_loss = 3.208\n",
      "Epoch  23 Batch  123/149   train_loss = 3.136\n",
      "Epoch  24 Batch   24/149   train_loss = 3.188\n",
      "Epoch  24 Batch   74/149   train_loss = 3.223\n",
      "Epoch  24 Batch  124/149   train_loss = 3.182\n",
      "Epoch  25 Batch   25/149   train_loss = 3.181\n",
      "Epoch  25 Batch   75/149   train_loss = 3.180\n",
      "Epoch  25 Batch  125/149   train_loss = 3.116\n",
      "Epoch  26 Batch   26/149   train_loss = 3.088\n",
      "Epoch  26 Batch   76/149   train_loss = 3.137\n",
      "Epoch  26 Batch  126/149   train_loss = 3.116\n",
      "Epoch  27 Batch   27/149   train_loss = 3.123\n",
      "Epoch  27 Batch   77/149   train_loss = 3.113\n",
      "Epoch  27 Batch  127/149   train_loss = 3.129\n",
      "Epoch  28 Batch   28/149   train_loss = 3.102\n",
      "Epoch  28 Batch   78/149   train_loss = 3.143\n",
      "Epoch  28 Batch  128/149   train_loss = 3.102\n",
      "Epoch  29 Batch   29/149   train_loss = 3.055\n",
      "Epoch  29 Batch   79/149   train_loss = 3.115\n",
      "Epoch  29 Batch  129/149   train_loss = 3.127\n",
      "Epoch  30 Batch   30/149   train_loss = 3.086\n",
      "Epoch  30 Batch   80/149   train_loss = 3.092\n",
      "Epoch  30 Batch  130/149   train_loss = 3.067\n",
      "Epoch  31 Batch   31/149   train_loss = 3.081\n",
      "Epoch  31 Batch   81/149   train_loss = 3.083\n",
      "Epoch  31 Batch  131/149   train_loss = 3.058\n",
      "Epoch  32 Batch   32/149   train_loss = 3.044\n",
      "Epoch  32 Batch   82/149   train_loss = 3.109\n",
      "Epoch  32 Batch  132/149   train_loss = 3.066\n",
      "Epoch  33 Batch   33/149   train_loss = 3.033\n",
      "Epoch  33 Batch   83/149   train_loss = 3.077\n",
      "Epoch  33 Batch  133/149   train_loss = 2.983\n",
      "Epoch  34 Batch   34/149   train_loss = 3.059\n",
      "Epoch  34 Batch   84/149   train_loss = 3.062\n",
      "Epoch  34 Batch  134/149   train_loss = 3.069\n",
      "Epoch  35 Batch   35/149   train_loss = 3.053\n",
      "Epoch  35 Batch   85/149   train_loss = 3.076\n",
      "Epoch  35 Batch  135/149   train_loss = 3.042\n",
      "Epoch  36 Batch   36/149   train_loss = 3.008\n",
      "Epoch  36 Batch   86/149   train_loss = 3.044\n",
      "Epoch  36 Batch  136/149   train_loss = 3.036\n",
      "Epoch  37 Batch   37/149   train_loss = 3.033\n",
      "Epoch  37 Batch   87/149   train_loss = 3.053\n",
      "Epoch  37 Batch  137/149   train_loss = 3.032\n",
      "Epoch  38 Batch   38/149   train_loss = 2.986\n",
      "Epoch  38 Batch   88/149   train_loss = 3.010\n",
      "Epoch  38 Batch  138/149   train_loss = 2.995\n",
      "Epoch  39 Batch   39/149   train_loss = 3.004\n",
      "Epoch  39 Batch   89/149   train_loss = 3.026\n",
      "Epoch  39 Batch  139/149   train_loss = 2.979\n",
      "Epoch  40 Batch   40/149   train_loss = 2.961\n",
      "Epoch  40 Batch   90/149   train_loss = 3.016\n",
      "Epoch  40 Batch  140/149   train_loss = 2.982\n",
      "Epoch  41 Batch   41/149   train_loss = 3.028\n",
      "Epoch  41 Batch   91/149   train_loss = 3.009\n",
      "Epoch  41 Batch  141/149   train_loss = 2.941\n",
      "Epoch  42 Batch   42/149   train_loss = 3.028\n",
      "Epoch  42 Batch   92/149   train_loss = 2.966\n",
      "Epoch  42 Batch  142/149   train_loss = 2.991\n",
      "Epoch  43 Batch   43/149   train_loss = 2.985\n",
      "Epoch  43 Batch   93/149   train_loss = 3.011\n",
      "Epoch  43 Batch  143/149   train_loss = 2.932\n",
      "Epoch  44 Batch   44/149   train_loss = 2.991\n",
      "Epoch  44 Batch   94/149   train_loss = 2.967\n",
      "Epoch  44 Batch  144/149   train_loss = 2.981\n",
      "Epoch  45 Batch   45/149   train_loss = 3.009\n",
      "Epoch  45 Batch   95/149   train_loss = 2.943\n",
      "Epoch  45 Batch  145/149   train_loss = 2.978\n",
      "Epoch  46 Batch   46/149   train_loss = 3.019\n",
      "Epoch  46 Batch   96/149   train_loss = 2.996\n",
      "Epoch  46 Batch  146/149   train_loss = 3.000\n",
      "Epoch  47 Batch   47/149   train_loss = 2.977\n",
      "Epoch  47 Batch   97/149   train_loss = 2.948\n",
      "Epoch  47 Batch  147/149   train_loss = 2.974\n",
      "Epoch  48 Batch   48/149   train_loss = 2.956\n",
      "Epoch  48 Batch   98/149   train_loss = 2.927\n",
      "Epoch  48 Batch  148/149   train_loss = 2.952\n",
      "Epoch  49 Batch   49/149   train_loss = 3.044\n",
      "Epoch  49 Batch   99/149   train_loss = 2.910\n",
      "Epoch  50 Batch    0/149   train_loss = 2.943\n",
      "Epoch  50 Batch   50/149   train_loss = 2.971\n",
      "Epoch  50 Batch  100/149   train_loss = 2.960\n",
      "Epoch  51 Batch    1/149   train_loss = 2.938\n",
      "Epoch  51 Batch   51/149   train_loss = 2.963\n",
      "Epoch  51 Batch  101/149   train_loss = 2.982\n",
      "Epoch  52 Batch    2/149   train_loss = 2.897\n",
      "Epoch  52 Batch   52/149   train_loss = 2.965\n",
      "Epoch  52 Batch  102/149   train_loss = 2.953\n",
      "Epoch  53 Batch    3/149   train_loss = 2.937\n",
      "Epoch  53 Batch   53/149   train_loss = 2.985\n",
      "Epoch  53 Batch  103/149   train_loss = 2.905\n",
      "Epoch  54 Batch    4/149   train_loss = 2.927\n",
      "Epoch  54 Batch   54/149   train_loss = 2.937\n",
      "Epoch  54 Batch  104/149   train_loss = 2.978\n",
      "Epoch  55 Batch    5/149   train_loss = 2.928\n",
      "Epoch  55 Batch   55/149   train_loss = 2.905\n",
      "Epoch  55 Batch  105/149   train_loss = 2.937\n",
      "Epoch  56 Batch    6/149   train_loss = 2.885\n",
      "Epoch  56 Batch   56/149   train_loss = 2.941\n",
      "Epoch  56 Batch  106/149   train_loss = 2.927\n",
      "Epoch  57 Batch    7/149   train_loss = 2.900\n",
      "Epoch  57 Batch   57/149   train_loss = 2.919\n",
      "Epoch  57 Batch  107/149   train_loss = 2.880\n",
      "Epoch  58 Batch    8/149   train_loss = 2.907\n",
      "Epoch  58 Batch   58/149   train_loss = 2.891\n",
      "Epoch  58 Batch  108/149   train_loss = 2.875\n",
      "Epoch  59 Batch    9/149   train_loss = 2.876\n",
      "Epoch  59 Batch   59/149   train_loss = 2.868\n",
      "Epoch  59 Batch  109/149   train_loss = 2.925\n"
     ]
    },
    {
     "name": "stdout",
     "output_type": "stream",
     "text": [
      "Epoch  60 Batch   10/149   train_loss = 2.876\n",
      "Epoch  60 Batch   60/149   train_loss = 2.900\n",
      "Epoch  60 Batch  110/149   train_loss = 2.877\n",
      "Epoch  61 Batch   11/149   train_loss = 2.861\n",
      "Epoch  61 Batch   61/149   train_loss = 2.907\n",
      "Epoch  61 Batch  111/149   train_loss = 2.904\n",
      "Epoch  62 Batch   12/149   train_loss = 2.901\n",
      "Epoch  62 Batch   62/149   train_loss = 2.867\n",
      "Epoch  62 Batch  112/149   train_loss = 2.891\n",
      "Epoch  63 Batch   13/149   train_loss = 2.851\n",
      "Epoch  63 Batch   63/149   train_loss = 2.884\n",
      "Epoch  63 Batch  113/149   train_loss = 2.850\n",
      "Epoch  64 Batch   14/149   train_loss = 2.842\n",
      "Epoch  64 Batch   64/149   train_loss = 2.869\n",
      "Epoch  64 Batch  114/149   train_loss = 2.838\n",
      "Epoch  65 Batch   15/149   train_loss = 2.895\n",
      "Epoch  65 Batch   65/149   train_loss = 2.922\n",
      "Epoch  65 Batch  115/149   train_loss = 2.856\n",
      "Epoch  66 Batch   16/149   train_loss = 2.855\n",
      "Epoch  66 Batch   66/149   train_loss = 2.830\n",
      "Epoch  66 Batch  116/149   train_loss = 2.868\n",
      "Epoch  67 Batch   17/149   train_loss = 2.833\n",
      "Epoch  67 Batch   67/149   train_loss = 2.876\n",
      "Epoch  67 Batch  117/149   train_loss = 2.806\n",
      "Epoch  68 Batch   18/149   train_loss = 2.823\n",
      "Epoch  68 Batch   68/149   train_loss = 2.831\n",
      "Epoch  68 Batch  118/149   train_loss = 2.821\n",
      "Epoch  69 Batch   19/149   train_loss = 2.873\n",
      "Epoch  69 Batch   69/149   train_loss = 2.863\n",
      "Epoch  69 Batch  119/149   train_loss = 2.847\n",
      "Epoch  70 Batch   20/149   train_loss = 2.827\n",
      "Epoch  70 Batch   70/149   train_loss = 2.822\n",
      "Epoch  70 Batch  120/149   train_loss = 2.825\n",
      "Epoch  71 Batch   21/149   train_loss = 2.779\n",
      "Epoch  71 Batch   71/149   train_loss = 2.845\n",
      "Epoch  71 Batch  121/149   train_loss = 2.839\n",
      "Epoch  72 Batch   22/149   train_loss = 2.812\n",
      "Epoch  72 Batch   72/149   train_loss = 2.820\n",
      "Epoch  72 Batch  122/149   train_loss = 2.773\n",
      "Epoch  73 Batch   23/149   train_loss = 2.824\n",
      "Epoch  73 Batch   73/149   train_loss = 2.802\n",
      "Epoch  73 Batch  123/149   train_loss = 2.791\n",
      "Epoch  74 Batch   24/149   train_loss = 2.818\n",
      "Epoch  74 Batch   74/149   train_loss = 2.852\n",
      "Epoch  74 Batch  124/149   train_loss = 2.831\n",
      "Epoch  75 Batch   25/149   train_loss = 2.803\n",
      "Epoch  75 Batch   75/149   train_loss = 2.819\n",
      "Epoch  75 Batch  125/149   train_loss = 2.803\n",
      "Epoch  76 Batch   26/149   train_loss = 2.769\n",
      "Epoch  76 Batch   76/149   train_loss = 2.792\n",
      "Epoch  76 Batch  126/149   train_loss = 2.795\n",
      "Epoch  77 Batch   27/149   train_loss = 2.801\n",
      "Epoch  77 Batch   77/149   train_loss = 2.791\n",
      "Epoch  77 Batch  127/149   train_loss = 2.813\n",
      "Epoch  78 Batch   28/149   train_loss = 2.790\n",
      "Epoch  78 Batch   78/149   train_loss = 2.831\n",
      "Epoch  78 Batch  128/149   train_loss = 2.798\n",
      "Epoch  79 Batch   29/149   train_loss = 2.768\n",
      "Epoch  79 Batch   79/149   train_loss = 2.797\n",
      "Epoch  79 Batch  129/149   train_loss = 2.814\n",
      "Epoch  80 Batch   30/149   train_loss = 2.790\n",
      "Epoch  80 Batch   80/149   train_loss = 2.779\n",
      "Epoch  80 Batch  130/149   train_loss = 2.778\n",
      "Epoch  81 Batch   31/149   train_loss = 2.776\n",
      "Epoch  81 Batch   81/149   train_loss = 2.807\n",
      "Epoch  81 Batch  131/149   train_loss = 2.785\n",
      "Epoch  82 Batch   32/149   train_loss = 2.757\n",
      "Epoch  82 Batch   82/149   train_loss = 2.783\n",
      "Epoch  82 Batch  132/149   train_loss = 2.754\n",
      "Epoch  83 Batch   33/149   train_loss = 2.755\n",
      "Epoch  83 Batch   83/149   train_loss = 2.787\n",
      "Epoch  83 Batch  133/149   train_loss = 2.731\n",
      "Epoch  84 Batch   34/149   train_loss = 2.765\n",
      "Epoch  84 Batch   84/149   train_loss = 2.769\n",
      "Epoch  84 Batch  134/149   train_loss = 2.801\n",
      "Epoch  85 Batch   35/149   train_loss = 2.755\n",
      "Epoch  85 Batch   85/149   train_loss = 2.793\n",
      "Epoch  85 Batch  135/149   train_loss = 2.750\n",
      "Epoch  86 Batch   36/149   train_loss = 2.719\n",
      "Epoch  86 Batch   86/149   train_loss = 2.766\n",
      "Epoch  86 Batch  136/149   train_loss = 2.739\n",
      "Epoch  87 Batch   37/149   train_loss = 2.745\n",
      "Epoch  87 Batch   87/149   train_loss = 2.774\n",
      "Epoch  87 Batch  137/149   train_loss = 2.753\n",
      "Epoch  88 Batch   38/149   train_loss = 2.719\n",
      "Epoch  88 Batch   88/149   train_loss = 2.744\n",
      "Epoch  88 Batch  138/149   train_loss = 2.727\n",
      "Epoch  89 Batch   39/149   train_loss = 2.751\n",
      "Epoch  89 Batch   89/149   train_loss = 2.748\n",
      "Epoch  89 Batch  139/149   train_loss = 2.729\n",
      "Epoch  90 Batch   40/149   train_loss = 2.690\n",
      "Epoch  90 Batch   90/149   train_loss = 2.730\n",
      "Epoch  90 Batch  140/149   train_loss = 2.740\n",
      "Epoch  91 Batch   41/149   train_loss = 2.730\n",
      "Epoch  91 Batch   91/149   train_loss = 2.734\n",
      "Epoch  91 Batch  141/149   train_loss = 2.728\n",
      "Epoch  92 Batch   42/149   train_loss = 2.761\n",
      "Epoch  92 Batch   92/149   train_loss = 2.685\n",
      "Epoch  92 Batch  142/149   train_loss = 2.737\n",
      "Epoch  93 Batch   43/149   train_loss = 2.711\n",
      "Epoch  93 Batch   93/149   train_loss = 2.727\n",
      "Epoch  93 Batch  143/149   train_loss = 2.662\n",
      "Epoch  94 Batch   44/149   train_loss = 2.725\n",
      "Epoch  94 Batch   94/149   train_loss = 2.696\n",
      "Epoch  94 Batch  144/149   train_loss = 2.718\n",
      "Epoch  95 Batch   45/149   train_loss = 2.725\n",
      "Epoch  95 Batch   95/149   train_loss = 2.678\n",
      "Epoch  95 Batch  145/149   train_loss = 2.719\n",
      "Epoch  96 Batch   46/149   train_loss = 2.751\n",
      "Epoch  96 Batch   96/149   train_loss = 2.724\n",
      "Epoch  96 Batch  146/149   train_loss = 2.736\n",
      "Epoch  97 Batch   47/149   train_loss = 2.729\n",
      "Epoch  97 Batch   97/149   train_loss = 2.682\n",
      "Epoch  97 Batch  147/149   train_loss = 2.688\n",
      "Epoch  98 Batch   48/149   train_loss = 2.682\n",
      "Epoch  98 Batch   98/149   train_loss = 2.676\n",
      "Epoch  98 Batch  148/149   train_loss = 2.710\n",
      "Epoch  99 Batch   49/149   train_loss = 2.781\n",
      "Epoch  99 Batch   99/149   train_loss = 2.649\n",
      "Model Trained and Saved\n"
     ]
    }
   ],
   "source": [
    "batches = get_batches(int_text, batch_size, seq_length)\n",
    "\n",
    "with tf.Session(graph=train_graph) as sess:\n",
    "    sess.run(tf.global_variables_initializer())\n",
    "\n",
    "    for epoch_i in range(num_epochs):\n",
    "        state = sess.run(initial_state, {input_text: batches[0][0]})\n",
    "\n",
    "        for batch_i, (x, y) in enumerate(batches):\n",
    "            feed = {\n",
    "                input_text: x,\n",
    "                targets: y,\n",
    "                initial_state: state,\n",
    "                lr: learning_rate}\n",
    "            train_loss, state, _ = sess.run([cost, final_state, train_op], feed)\n",
    "\n",
    "            # Show every <show_every_n_batches> batches\n",
    "            if (epoch_i * len(batches) + batch_i) % show_every_n_batches == 0:\n",
    "                print('Epoch {:>3} Batch {:>4}/{}   train_loss = {:.3f}'.format(\n",
    "                    epoch_i,\n",
    "                    batch_i,\n",
    "                    len(batches),\n",
    "                    train_loss))\n",
    "        saver = tf.train.Saver()\n",
    "        saver.save(sess, save_dir)\n",
    "\n",
    "    # Save Model\n",
    "    saver = tf.train.Saver()\n",
    "    saver.save(sess, save_dir)\n",
    "    print('Model Trained and Saved')"
   ]
  },
  {
   "cell_type": "markdown",
   "metadata": {},
   "source": [
    "## Save Parameters\n",
    "Save `seq_length` and `save_dir` for generating a new TV script."
   ]
  },
  {
   "cell_type": "code",
   "execution_count": 77,
   "metadata": {},
   "outputs": [],
   "source": [
    "# Save parameters for checkpoint\n",
    "helper.save_params((seq_length, save_dir))"
   ]
  },
  {
   "cell_type": "markdown",
   "metadata": {},
   "source": [
    "# Checkpoint"
   ]
  },
  {
   "cell_type": "code",
   "execution_count": 78,
   "metadata": {},
   "outputs": [],
   "source": [
    "import tensorflow as tf\n",
    "import numpy as np\n",
    "import helper\n",
    "import problem_unittests as tests\n",
    "\n",
    "_, vocab_to_int, int_to_vocab, token_dict = helper.load_preprocess()\n",
    "seq_length, load_dir = helper.load_params()"
   ]
  },
  {
   "cell_type": "markdown",
   "metadata": {},
   "source": [
    "## Implement Generate Functions\n",
    "### Get Tensors\n",
    "Get tensors from `loaded_graph` using the function [`get_tensor_by_name()`](https://www.tensorflow.org/api_docs/python/tf/Graph#get_tensor_by_name).  Get the tensors using the following names:\n",
    "- \"input:0\"\n",
    "- \"initial_state:0\"\n",
    "- \"final_state:0\"\n",
    "- \"probs:0\"\n",
    "\n",
    "The tensors are returned in the following tuple `(InputTensor, InitialStateTensor, FinalStateTensor, ProbsTensor)` "
   ]
  },
  {
   "cell_type": "code",
   "execution_count": 79,
   "metadata": {},
   "outputs": [
    {
     "name": "stdout",
     "output_type": "stream",
     "text": [
      "Tests Passed\n"
     ]
    }
   ],
   "source": [
    "def get_tensors(loaded_graph):\n",
    "    \"\"\"\n",
    "    Get input, initial state, final state, and probabilities tensor from <loaded_graph>\n",
    "    :param loaded_graph: TensorFlow graph loaded from file\n",
    "    :return: Tuple (InputTensor, InitialStateTensor, FinalStateTensor, ProbsTensor)\n",
    "    \"\"\"\n",
    "    input_tensor = loaded_graph.get_tensor_by_name(\"input:0\")\n",
    "    initial_state = loaded_graph.get_tensor_by_name(\"initial_state:0\")\n",
    "    final_state = loaded_graph.get_tensor_by_name(\"final_state:0\")\n",
    "    probs = loaded_graph.get_tensor_by_name(\"probs:0\")\n",
    "    return input_tensor, initial_state, final_state, probs\n",
    "\n",
    "tests.test_get_tensors(get_tensors)"
   ]
  },
  {
   "cell_type": "markdown",
   "metadata": {},
   "source": [
    "### Choose Word\n",
    "We'll now implement `pick_word()` function to select the next word using `probabilities`."
   ]
  },
  {
   "cell_type": "code",
   "execution_count": 80,
   "metadata": {},
   "outputs": [
    {
     "name": "stdout",
     "output_type": "stream",
     "text": [
      "Tests Passed\n"
     ]
    }
   ],
   "source": [
    "def pick_word(probabilities, int_to_vocab):\n",
    "    \"\"\"\n",
    "    Pick the next word in the generated text\n",
    "    :param probabilities: Probabilites of the next word\n",
    "    :param int_to_vocab: Dictionary of word ids as the keys and words as the values\n",
    "    :return: String of the predicted word\n",
    "    \"\"\"\n",
    "    max_probability = np.argmax(probabilities)\n",
    "    next_word = int_to_vocab[max_probability]\n",
    "    return next_word\n",
    "\n",
    "tests.test_pick_word(pick_word)"
   ]
  },
  {
   "cell_type": "markdown",
   "metadata": {},
   "source": [
    "## Generate TV Script\n",
    "This will generate the TV script for you.  Set `gen_length` to the length of TV script you want to generate."
   ]
  },
  {
   "cell_type": "code",
   "execution_count": 83,
   "metadata": {},
   "outputs": [
    {
     "name": "stdout",
     "output_type": "stream",
     "text": [
      "INFO:tensorflow:Restoring parameters from ./save\n",
      "barney_gumble:(to rafter) c'mon, stool!\n",
      "(simpson_home: int. simpson house - living room - continuous)\n",
      "\n",
      "marge_simpson:(stricken noise)\n",
      "homer_simpson:(moans)\n",
      "homer_simpson:(pained sound)\n",
      "homer_simpson:(chuckles) stupid clog!\n",
      "homer_simpson:(defiant) look at this place!\n",
      "homer_simpson:(puzzled) what?!\n",
      "homer_simpson:(chuckling) i don't know.\n",
      "homer_simpson:(accusing) i love you!\n",
      "marge_simpson:(chanting) substantially-less...\n",
      "homer_simpson:(dreamy)\n",
      "(flanders_home: int. flanders house - living room - continuous)\n",
      "\n",
      "homer_simpson:(exhausted) i don't understand. i have a problem early.\n",
      "marge_simpson:(frustrated) oh, homie, i don't know.\n",
      "homer_simpson:(stoic) i guess i can steal it.\n",
      "bashir:(to kemi) but, uh, i have a plan.\n",
      "(simpson_home: int. simpson house - kitchen - day)\n",
      "\n",
      "homer_simpson:(moans)\n",
      "marge_simpson:(blurting) homer, i don't want to be able to see you\n"
     ]
    }
   ],
   "source": [
    "gen_length = 200\n",
    "# homer_simpson, moe_szyslak, or Barney_Gumble\n",
    "prime_word = 'barney_gumble'\n",
    "\n",
    "loaded_graph = tf.Graph()\n",
    "with tf.Session(graph=loaded_graph) as sess:\n",
    "    # Load saved model\n",
    "    loader = tf.train.import_meta_graph(load_dir + '.meta')\n",
    "    loader.restore(sess, load_dir)\n",
    "\n",
    "    # Get Tensors from loaded model\n",
    "    input_text, initial_state, final_state, probs = get_tensors(loaded_graph)\n",
    "\n",
    "    # Sentences generation setup\n",
    "    gen_sentences = [prime_word + ':']\n",
    "    prev_state = sess.run(initial_state, {input_text: np.array([[1]])})\n",
    "\n",
    "    # Generate sentences\n",
    "    for n in range(gen_length):\n",
    "        # Dynamic Input\n",
    "        dyn_input = [[vocab_to_int[word] for word in gen_sentences[-seq_length:]]]\n",
    "        dyn_seq_length = len(dyn_input[0])\n",
    "\n",
    "        # Get Prediction\n",
    "        probabilities, prev_state = sess.run(\n",
    "            [probs, final_state],\n",
    "            {input_text: dyn_input, initial_state: prev_state})\n",
    "        \n",
    "        pred_word = pick_word(probabilities[0][dyn_seq_length-1], int_to_vocab)\n",
    "\n",
    "        gen_sentences.append(pred_word)\n",
    "    \n",
    "    # Remove tokens\n",
    "    tv_script = ' '.join(gen_sentences)\n",
    "    for key, token in token_dict.items():\n",
    "        ending = ' ' if key in ['\\n', '(', '\"'] else ''\n",
    "        tv_script = tv_script.replace(' ' + token.lower(), key)\n",
    "    tv_script = tv_script.replace('\\n ', '\\n')\n",
    "    tv_script = tv_script.replace('( ', '(')\n",
    "        \n",
    "    print(tv_script)"
   ]
  }
 ],
 "metadata": {
  "kernelspec": {
   "display_name": "Python 3",
   "language": "python",
   "name": "python3"
  },
  "language_info": {
   "codemirror_mode": {
    "name": "ipython",
    "version": 3
   },
   "file_extension": ".py",
   "mimetype": "text/x-python",
   "name": "python",
   "nbconvert_exporter": "python",
   "pygments_lexer": "ipython3",
   "version": "3.7.2"
  },
  "widgets": {
   "state": {},
   "version": "1.1.2"
  }
 },
 "nbformat": 4,
 "nbformat_minor": 1
}
